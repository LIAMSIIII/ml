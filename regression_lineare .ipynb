{
 "cells": [
  {
   "cell_type": "code",
   "execution_count": null,
   "id": "068b835f",
   "metadata": {},
   "outputs": [],
   "source": [
    "#REGRESSION_LINEARE"
   ]
  },
  {
   "cell_type": "code",
   "execution_count": 121,
   "id": "732fd35d-50a7-49bb-b491-63a4fcb46dec",
   "metadata": {},
   "outputs": [],
   "source": [
    "import numpy as np \n",
    "import pandas as pd\n",
    "import matplotlib.pyplot as plt\n",
    "from sklearn.datasets import make_regression\n",
    "x,y=make_regression(n_samples=100, n_features=1,noise=10)\n",
    "print(y.shape)\n",
    "y = y.reshape(y.shape[0], 1)\n",
    "y.shape\n",
    "X=np.hstack((np.ones(x.shape),x))\n",
    "plt.scatter(x,y)\n",
    "\n",
    "plt.plot(x,h(X,w),c='r')\n",
    "w=np.random.rand(2,1)\n",
    "def h(X,w):\n",
    "    return X.dot(w)n  \n",
    "def loss(X,w,y):\n",
    "    return (1/2*len(y))*np.sum((h(X,w)-y)**2)\n",
    "def gradient(X,w,y):\n",
    "    return X.T.dot((h(X,w)-y))*(1/len(y))\n",
    "def gradient_descent(X,y,w,alpha,n):\n",
    "    for i in range(0,n):\n",
    "        w=w-alpha*gradient(X,y,w)\n",
    "    return w\n",
    "w_jadida=gradient_descent(X,y,w,alpha=0.01,n=10000)\n",
    "w_jadida\n",
    "y_hat=h(X,w_jadida)\n",
    "plt.scatter(x,y)\n",
    "plt.plot(x,y_hat,c='r')"
   ]
  },
  {
   "cell_type": "markdown",
   "id": "232761e1",
   "metadata": {},
   "source": [
    "### logistique"
   ]
  },
  {
   "cell_type": "code",
   "execution_count": null,
   "id": "411db26a",
   "metadata": {},
   "outputs": [],
   "source": [
    "from sklearn.datasets import make_classification\n",
    "x, y = make_classification(n_samples=100, n_features=1, n_informative=1, n_redundant=0,n_clusters_per_class=1, random_state=42)\n",
    "x.shape\n",
    "y.shape\n",
    "y=y.reshape(y.shape[0],1)\n",
    "plt.scatter(x,y)\n",
    "w=np.random.rand(2,1)\n",
    "X=np.hstack((np.ones(x.shape),x))\n",
    "z=X.dot(w)\n",
    "def sigmoid(z):\n",
    "    return 1 / (1 + np.exp(-z))\n",
    "def loss(X, z, y):\n",
    "    return -np.mean(y * np.log(sigmoid(z)) + (1 - y) * np.log(1 - sigmoid(z)))\n",
    "def gradient(X, z, y):\n",
    "    return X.T.dot(sigmoid(z) - y) / len(y)\n",
    "def gradient_descent(X, z,w,y, alpha, n_iterations):\n",
    "    for i in range(n_iterations):\n",
    "        grad = gradient(X, z, y)\n",
    "        w -= alpha * grad\n",
    "    return w\n",
    "w_jdida=gradient_descent(X, z,w, y, 0.001, 1000)\n",
    "w_jdida\n",
    "z=X.dot(w_jdida)\n",
    "y_dyalna=sigmoid(z)\n",
    "y_dyalna=np.round(y_dyalna)\n",
    "plt.scatter(x,y)\n",
    "plt.plot(x,y_dyalna,color='r')\n",
    "acc=np.sum(y_dyalna==y)/len(y_dyalna)\n",
    "acc"
   ]
  },
  {
   "cell_type": "code",
   "execution_count": null,
   "id": "dd57a258",
   "metadata": {},
   "outputs": [],
   "source": [
    "#KNN"
   ]
  },
  {
   "cell_type": "code",
   "execution_count": null,
   "id": "c07db994",
   "metadata": {},
   "outputs": [],
   "source": [
    "import numpy as np\n",
    "from collections import Counter\n",
    "def euclidean_distance(x1,x2):\n",
    "    distance=np.sqrt(np.sum(x1-x2)**2)\n",
    "    return distance\n",
    "class KNN:\n",
    "    def __init__(self,k=3):\n",
    "        self.k=k\n",
    "    def fit(X,y):\n",
    "        self.X_train=X\n",
    "        self.y_train=y\n",
    "    def predict(self,X):\n",
    "        prediction=[self.predict(x) for x in X]\n",
    "        return prediction \n",
    "    \n",
    "    def predict(self,x):\n",
    "        distances=[euclidean_distance(x,x_train) for x_train in self.X_train ]\n",
    "        k_indice=np.argsort(distances)[:,self.k]\n",
    "        lv=[self.y_train[i] for i in k_indice]\n",
    "        mc=Counter(lv).most_commun\n",
    "        return mc[0][0]\n",
    "    "
   ]
  },
  {
   "cell_type": "code",
   "execution_count": null,
   "id": "a2ce4014",
   "metadata": {},
   "outputs": [],
   "source": [
    "#ANN"
   ]
  },
  {
   "cell_type": "code",
   "execution_count": 65,
   "id": "ed8a2358",
   "metadata": {},
   "outputs": [],
   "source": [
    "import numpy as np\n",
    "import matplotlib.pyplot  as plt\n",
    "from sklearn.datasets import make_blobs\n",
    "x,y=make_blobs(n_samples=100,n_features=2,centers=2,random_state=0)\n",
    "x.shape\n",
    "y.shape\n",
    "y=y.reshape(y.shape[0],1)\n",
    "y.shape\n",
    "plt.scatter(x[:,0], x[:, 1], c=y, cmap='summer')\n",
    "plt.colorbar() \n",
    "plt.show()\n",
    "def initialisation(x):\n",
    "    w=np.random.randn(x.shape[1],1)\n",
    "    b=np.random.randn(1)\n",
    "    return (w,b)\n",
    "def model(x,w,b):\n",
    "    z=x.dot(w)+b\n",
    "    A=1/(1+np.exp(-z))\n",
    "    return A\n",
    "def loss_function(A,y):\n",
    "    return -1/len(y)*np.sum(y*np.log(A)+(1-y)*np.log(1-A))\n",
    "def gradient(A,x,y):\n",
    "    dw=1/len(y)*np.dot(x.T,(A-y))\n",
    "    db=1/len(y)*np.sum(A-y)\n",
    "    return (dw,db)\n",
    "def updates(w,b,dw,db,alpha):\n",
    "    w=w-alpha*dw\n",
    "    b=b-alpha*db\n",
    "    return (w,b)\n",
    "def predict(x,w,b):\n",
    "    A=model(x,w,b)\n",
    "    return A>=0.5\n",
    "from sklearn.metrics import accuracy_score\n",
    "def artificial_neuron(x,y,alpha=0.01,n_iter=1000):\n",
    "    loss=[] \n",
    "    w,b=initialisation(x)\n",
    "    for i in range(n_iter):\n",
    "      \n",
    "        A=model(x,w,b)\n",
    "        loss.append(loss_function(A,y))\n",
    "        dw,db=gradient(A,x,y)\n",
    "        w,b=updates(w,b,dw,db,alpha)\n",
    "    y_pred=predict(x,w,b)\n",
    "    print(accuracy_score(y,y_pred))\n",
    "    plt.plot(loss)\n",
    "    return (w,b)\n",
    "w,b=artificial_neuron(x,y)\n",
    "fig, ax = plt.subplots(figsize=(9, 6))\n",
    "ax.scatter(X[:,0], X[:, 1], c=y, cmap='summer')\n",
    "\n",
    "x1 = np.linspace(-1, 4, 100)\n",
    "x2 = ( - w[0] * x1 - b) / w[1]\n",
    "\n",
    "ax.plot(x1, x2, c='orange', lw=3)"
   ]
  },
  {
   "cell_type": "code",
   "execution_count": 66,
   "id": "86e2b266",
   "metadata": {},
   "outputs": [],
   "source": [
    "##ANN_TENSORFLOW "
   ]
  },
  {
   "cell_type": "code",
   "execution_count": null,
   "id": "c8f2c98b",
   "metadata": {},
   "outputs": [],
   "source": [
    "import numpy as np\n",
    "import tensorflow as tf\n",
    "from tensorflow import keras\n",
    "fashiondata=tf.keras.datasets.mnist\n",
    "(x_train,y_train),(x_test,y_test)=fashiondata.load_data()\n",
    "x_train.shape\n",
    "x_test.shape\n",
    "x_train,x_test=x_train/255,x_test/255\n",
    "model=tf.keras.models.Sequential([\n",
    "      tf.keras.layers.Flatten(input_shape=(28,28)),\n",
    "      tf.keras.layers.Dense(128,activation=\"relu\"),\n",
    "        tf.keras.layers.Dropout(0.2),\n",
    "        tf.keras.layers.Dense(10,activation=\"softmax\")\n",
    "    \n",
    "])\n",
    "model.compile(\n",
    "              optimizer=\"adam\",\n",
    "              loss='sparse_categorical_crossentropy',\n",
    "             metrics=['accuracy'])\n",
    "model.fit(x_train,y_train,epochs=5)\n",
    "model.evaluate(x_test,y_test)"
   ]
  },
  {
   "cell_type": "code",
   "execution_count": null,
   "id": "82613787",
   "metadata": {},
   "outputs": [],
   "source": [
    "from sklearn.neural_network import MLPClassifier\n",
    "#Créer une instance de MLPClassifier pour ce prolème de classification\n",
    "mlp=MLPClassifier(hidden_layer_sizes=(1),max_iter=100,learning_rate_init=0.1,verbose=1, activation='logistic')\n",
    "#Entrainer ce modèle sur les données d'entrainement\n",
    "mlp.fit(x,y)\n",
    "#Tester ce modèle avec les données de teste\n",
    "from sklearn.metrics import classification_report\n",
    "y_pred=mlp.predict(x)\n",
    "print(classification_report(y,y_pred))\n",
    "from sklearn.metrics import confusion_matrix\n",
    "confusion_matrix(y,y_pred)\n",
    "from keras.datasets import mnist\n",
    "(train_X, train_y), (test_X, test_y) = mnist.load_data()\n",
    "from matplotlib import pyplot\n",
    "for i in range(9):  \n",
    "    pyplot.subplot(330 + 1 + i)\n",
    "    pyplot.imshow(train_X[i], cmap=pyplot.get_cmap('gray'))\n",
    "pyplot.show()"
   ]
  },
  {
   "cell_type": "code",
   "execution_count": null,
   "id": "8aed6fea",
   "metadata": {},
   "outputs": [],
   "source": [
    "#CNN"
   ]
  },
  {
   "cell_type": "code",
   "execution_count": null,
   "id": "cec82c0d",
   "metadata": {},
   "outputs": [],
   "source": [
    "import tensorflow as tf\n",
    "from tensorflow import keras\n",
    "fashiondata=tf.keras.datasets.mnist\n",
    "(xxx_train,yyy_train),(xxx_test,yyy_test)=fashiondata.load_data()\n",
    "xxx_train=xxx_train.reshape(-1,28,28,1)\n",
    "xxx_test=xxx_test.reshape(-1,28,28,1)\n",
    "xxx_train,xxx_test=xxx_train/255,xxx_test/255\n",
    "model=tf.keras.models.Sequential([\n",
    "    tf.keras.layers.Input((28,28,1)),\n",
    "    tf.keras.layers.Conv2D(8,(3,3),activation=\"relu\"),\n",
    "    tf.keras.layers.MaxPooling2D((2,2)),\n",
    "    tf.keras.layers.Dropout(0.2),\n",
    "    tf.keras.layers.Conv2D(16,(3,3),activation=\"relu\"),\n",
    "    tf.keras.layers.MaxPooling2D((2,2)),\n",
    "    tf.keras.layers.Dropout(0.2),\n",
    "    tf.keras.layers.Flatten(),\n",
    "    tf.keras.layers.Dense(100,activation=\"relu\"),\n",
    "    tf.keras.layers.Dropout(0.5),\n",
    "    tf.keras.layers.Dense(10,activation=\"softmax\")\n",
    "    \n",
    "])\n",
    "model.summary()\n",
    "model.compile(optimizer=\"adam\",\n",
    "             loss=\"sparse_categorical_crossentropy\",\n",
    "             metrics=[\"accuracy\"])\n",
    "#ENTRAINEMENT\n",
    "hist=model.fit(xxx_train,yyy_train,batch_size=512,verbose=1,epochs=10,validation_data=(xxx_test,yyy_test))\n",
    "for i in range(9):\n",
    "    plt.subplot(3,3,i+1)\n",
    "    plt.imshow(xxx_train[i],cmap=plt.get_cmap('gray'))\n",
    "    plt.show()"
   ]
  },
  {
   "cell_type": "code",
   "execution_count": null,
   "id": "7ed2f59d",
   "metadata": {},
   "outputs": [],
   "source": [
    "#K_MEANS"
   ]
  },
  {
   "cell_type": "code",
   "execution_count": 1,
   "id": "5bd7fa0d",
   "metadata": {},
   "outputs": [
    {
     "name": "stderr",
     "output_type": "stream",
     "text": [
      "C:\\Users\\lenovo\\anaconda3\\lib\\site-packages\\scipy\\__init__.py:155: UserWarning: A NumPy version >=1.18.5 and <1.25.0 is required for this version of SciPy (detected version 1.26.4\n",
      "  warnings.warn(f\"A NumPy version >={np_minversion} and <{np_maxversion}\"\n"
     ]
    },
    {
     "data": {
      "text/plain": [
       "<matplotlib.collections.PathCollection at 0x28c0f8fd790>"
      ]
     },
     "execution_count": 1,
     "metadata": {},
     "output_type": "execute_result"
    },
    {
     "data": {
      "image/png": "[encoded data removed]",
      "text/plain": [
       "<Figure size 640x480 with 1 Axes>"
      ]
     },
     "metadata": {},
     "output_type": "display_data"
    }
   ],
   "source": [
    "import numpy as np\n",
    "import matplotlib.pyplot as plt\n",
    "from sklearn.datasets import make_classification\n",
    "x,y=make_classification(n_samples=100,n_features=2,n_informative=2,n_redundant=0,n_clusters_per_class=1,n_repeated=0,n_classes=3)\n",
    "plt.scatter(x[:,0],x[:,1])\n",
    "k=3\n",
    "m=x.shape[0]\n",
    "index=np.random.choice(range(m),size=k)\n",
    "index\n",
    "centroides=x[index]\n",
    "centroides\n",
    "plt.scatter(x[:,0],x[:,1])\n",
    "plt.scatter(centroides[:,0],centroides[:,1])\n",
    "\n",
    "def distance(x,y):\n",
    "    return np.sqrt(np.sum((x-y)**2))\n",
    "yy=np.zeros((m,1))\n",
    "yy\n",
    "data=np.hstack((x,yy))\n",
    "data.shape\n",
    "dist=np.array([distance(data[:,:2],centroides[i]) for i in range (k)]).T\n",
    "yy=np.argmin(data,axis=1)\n",
    "plt.scatter(x[:,0],x[:,1],c=yy,cmap='summer')"
   ]
  },
  {
   "cell_type": "code",
   "execution_count": null,
   "id": "5bc342c6",
   "metadata": {},
   "outputs": [],
   "source": []
  }
 ],
 "metadata": {
  "kernelspec": {
   "display_name": "Python 3 (ipykernel)",
   "language": "python",
   "name": "python3"
  },
  "language_info": {
   "codemirror_mode": {
    "name": "ipython",
    "version": 3
   },
   "file_extension": ".py",
   "mimetype": "text/x-python",
   "name": "python",
   "nbconvert_exporter": "python",
   "pygments_lexer": "ipython3",
   "version": "3.9.13"
  }
 },
 "nbformat": 4,
 "nbformat_minor": 5
}
